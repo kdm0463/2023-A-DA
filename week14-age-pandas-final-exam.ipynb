{
 "cells": [
  {
   "attachments": {},
   "cell_type": "markdown",
   "metadata": {},
   "source": [
    "# 판다스로 구현하는 연령별 인구구조 유사지역"
   ]
  },
  {
   "cell_type": "code",
   "execution_count": 3,
   "metadata": {},
   "outputs": [
    {
     "data": {
      "text/html": [
       "<div>\n",
       "<style scoped>\n",
       "    .dataframe tbody tr th:only-of-type {\n",
       "        vertical-align: middle;\n",
       "    }\n",
       "\n",
       "    .dataframe tbody tr th {\n",
       "        vertical-align: top;\n",
       "    }\n",
       "\n",
       "    .dataframe thead th {\n",
       "        text-align: right;\n",
       "    }\n",
       "</style>\n",
       "<table border=\"1\" class=\"dataframe\">\n",
       "  <thead>\n",
       "    <tr style=\"text-align: right;\">\n",
       "      <th></th>\n",
       "      <th>2023년09월_계_총인구수</th>\n",
       "      <th>2023년09월_계_연령구간인구수</th>\n",
       "      <th>2023년09월_계_0세</th>\n",
       "      <th>2023년09월_계_1세</th>\n",
       "      <th>2023년09월_계_2세</th>\n",
       "      <th>2023년09월_계_3세</th>\n",
       "      <th>2023년09월_계_4세</th>\n",
       "      <th>2023년09월_계_5세</th>\n",
       "      <th>2023년09월_계_6세</th>\n",
       "      <th>2023년09월_계_7세</th>\n",
       "      <th>...</th>\n",
       "      <th>2023년09월_계_91세</th>\n",
       "      <th>2023년09월_계_92세</th>\n",
       "      <th>2023년09월_계_93세</th>\n",
       "      <th>2023년09월_계_94세</th>\n",
       "      <th>2023년09월_계_95세</th>\n",
       "      <th>2023년09월_계_96세</th>\n",
       "      <th>2023년09월_계_97세</th>\n",
       "      <th>2023년09월_계_98세</th>\n",
       "      <th>2023년09월_계_99세</th>\n",
       "      <th>2023년09월_계_100세 이상</th>\n",
       "    </tr>\n",
       "    <tr>\n",
       "      <th>행정구역</th>\n",
       "      <th></th>\n",
       "      <th></th>\n",
       "      <th></th>\n",
       "      <th></th>\n",
       "      <th></th>\n",
       "      <th></th>\n",
       "      <th></th>\n",
       "      <th></th>\n",
       "      <th></th>\n",
       "      <th></th>\n",
       "      <th></th>\n",
       "      <th></th>\n",
       "      <th></th>\n",
       "      <th></th>\n",
       "      <th></th>\n",
       "      <th></th>\n",
       "      <th></th>\n",
       "      <th></th>\n",
       "      <th></th>\n",
       "      <th></th>\n",
       "      <th></th>\n",
       "    </tr>\n",
       "  </thead>\n",
       "  <tbody>\n",
       "    <tr>\n",
       "      <th>서울특별시  (1100000000)</th>\n",
       "      <td>9,407,540</td>\n",
       "      <td>9,407,540</td>\n",
       "      <td>38,101</td>\n",
       "      <td>41,599</td>\n",
       "      <td>43,518</td>\n",
       "      <td>44,893</td>\n",
       "      <td>48,097</td>\n",
       "      <td>51,107</td>\n",
       "      <td>56,215</td>\n",
       "      <td>64,176</td>\n",
       "      <td>...</td>\n",
       "      <td>8,984</td>\n",
       "      <td>6,319</td>\n",
       "      <td>5,441</td>\n",
       "      <td>4,430</td>\n",
       "      <td>3,158</td>\n",
       "      <td>2,286</td>\n",
       "      <td>1,306</td>\n",
       "      <td>916</td>\n",
       "      <td>703</td>\n",
       "      <td>1,505</td>\n",
       "    </tr>\n",
       "    <tr>\n",
       "      <th>서울특별시 종로구 (1111000000)</th>\n",
       "      <td>139,945</td>\n",
       "      <td>139,945</td>\n",
       "      <td>397</td>\n",
       "      <td>470</td>\n",
       "      <td>463</td>\n",
       "      <td>524</td>\n",
       "      <td>516</td>\n",
       "      <td>578</td>\n",
       "      <td>670</td>\n",
       "      <td>778</td>\n",
       "      <td>...</td>\n",
       "      <td>172</td>\n",
       "      <td>146</td>\n",
       "      <td>110</td>\n",
       "      <td>93</td>\n",
       "      <td>71</td>\n",
       "      <td>55</td>\n",
       "      <td>36</td>\n",
       "      <td>21</td>\n",
       "      <td>16</td>\n",
       "      <td>39</td>\n",
       "    </tr>\n",
       "    <tr>\n",
       "      <th>서울특별시 종로구 청운효자동(1111051500)</th>\n",
       "      <td>11,391</td>\n",
       "      <td>11,391</td>\n",
       "      <td>35</td>\n",
       "      <td>45</td>\n",
       "      <td>46</td>\n",
       "      <td>47</td>\n",
       "      <td>50</td>\n",
       "      <td>47</td>\n",
       "      <td>76</td>\n",
       "      <td>86</td>\n",
       "      <td>...</td>\n",
       "      <td>14</td>\n",
       "      <td>14</td>\n",
       "      <td>7</td>\n",
       "      <td>8</td>\n",
       "      <td>4</td>\n",
       "      <td>5</td>\n",
       "      <td>3</td>\n",
       "      <td>1</td>\n",
       "      <td>3</td>\n",
       "      <td>3</td>\n",
       "    </tr>\n",
       "    <tr>\n",
       "      <th>서울특별시 종로구 사직동(1111053000)</th>\n",
       "      <td>9,042</td>\n",
       "      <td>9,042</td>\n",
       "      <td>24</td>\n",
       "      <td>32</td>\n",
       "      <td>35</td>\n",
       "      <td>37</td>\n",
       "      <td>40</td>\n",
       "      <td>49</td>\n",
       "      <td>56</td>\n",
       "      <td>60</td>\n",
       "      <td>...</td>\n",
       "      <td>8</td>\n",
       "      <td>15</td>\n",
       "      <td>10</td>\n",
       "      <td>16</td>\n",
       "      <td>5</td>\n",
       "      <td>5</td>\n",
       "      <td>2</td>\n",
       "      <td>5</td>\n",
       "      <td>2</td>\n",
       "      <td>5</td>\n",
       "    </tr>\n",
       "    <tr>\n",
       "      <th>서울특별시 종로구 삼청동(1111054000)</th>\n",
       "      <td>2,252</td>\n",
       "      <td>2,252</td>\n",
       "      <td>7</td>\n",
       "      <td>4</td>\n",
       "      <td>8</td>\n",
       "      <td>7</td>\n",
       "      <td>4</td>\n",
       "      <td>9</td>\n",
       "      <td>13</td>\n",
       "      <td>10</td>\n",
       "      <td>...</td>\n",
       "      <td>7</td>\n",
       "      <td>3</td>\n",
       "      <td>5</td>\n",
       "      <td>1</td>\n",
       "      <td>2</td>\n",
       "      <td>1</td>\n",
       "      <td>1</td>\n",
       "      <td>0</td>\n",
       "      <td>0</td>\n",
       "      <td>2</td>\n",
       "    </tr>\n",
       "  </tbody>\n",
       "</table>\n",
       "<p>5 rows × 103 columns</p>\n",
       "</div>"
      ],
      "text/plain": [
       "                            2023년09월_계_총인구수 2023년09월_계_연령구간인구수 2023년09월_계_0세  \\\n",
       "행정구역                                                                           \n",
       "서울특별시  (1100000000)               9,407,540          9,407,540        38,101   \n",
       "서울특별시 종로구 (1111000000)              139,945            139,945           397   \n",
       "서울특별시 종로구 청운효자동(1111051500)          11,391             11,391            35   \n",
       "서울특별시 종로구 사직동(1111053000)             9,042              9,042            24   \n",
       "서울특별시 종로구 삼청동(1111054000)             2,252              2,252             7   \n",
       "\n",
       "                            2023년09월_계_1세 2023년09월_계_2세 2023년09월_계_3세  \\\n",
       "행정구역                                                                    \n",
       "서울특별시  (1100000000)                41,599        43,518        44,893   \n",
       "서울특별시 종로구 (1111000000)                470           463           524   \n",
       "서울특별시 종로구 청운효자동(1111051500)            45            46            47   \n",
       "서울특별시 종로구 사직동(1111053000)              32            35            37   \n",
       "서울특별시 종로구 삼청동(1111054000)               4             8             7   \n",
       "\n",
       "                            2023년09월_계_4세 2023년09월_계_5세 2023년09월_계_6세  \\\n",
       "행정구역                                                                    \n",
       "서울특별시  (1100000000)                48,097        51,107        56,215   \n",
       "서울특별시 종로구 (1111000000)                516           578           670   \n",
       "서울특별시 종로구 청운효자동(1111051500)            50            47            76   \n",
       "서울특별시 종로구 사직동(1111053000)              40            49            56   \n",
       "서울특별시 종로구 삼청동(1111054000)               4             9            13   \n",
       "\n",
       "                            2023년09월_계_7세  ... 2023년09월_계_91세 2023년09월_계_92세  \\\n",
       "행정구역                                       ...                                 \n",
       "서울특별시  (1100000000)                64,176  ...          8,984          6,319   \n",
       "서울특별시 종로구 (1111000000)                778  ...            172            146   \n",
       "서울특별시 종로구 청운효자동(1111051500)            86  ...             14             14   \n",
       "서울특별시 종로구 사직동(1111053000)              60  ...              8             15   \n",
       "서울특별시 종로구 삼청동(1111054000)              10  ...              7              3   \n",
       "\n",
       "                            2023년09월_계_93세 2023년09월_계_94세 2023년09월_계_95세  \\\n",
       "행정구역                                                                       \n",
       "서울특별시  (1100000000)                  5,441          4,430          3,158   \n",
       "서울특별시 종로구 (1111000000)                 110             93             71   \n",
       "서울특별시 종로구 청운효자동(1111051500)              7              8              4   \n",
       "서울특별시 종로구 사직동(1111053000)               10             16              5   \n",
       "서울특별시 종로구 삼청동(1111054000)                5              1              2   \n",
       "\n",
       "                            2023년09월_계_96세 2023년09월_계_97세 2023년09월_계_98세  \\\n",
       "행정구역                                                                       \n",
       "서울특별시  (1100000000)                  2,286          1,306            916   \n",
       "서울특별시 종로구 (1111000000)                  55             36             21   \n",
       "서울특별시 종로구 청운효자동(1111051500)              5              3              1   \n",
       "서울특별시 종로구 사직동(1111053000)                5              2              5   \n",
       "서울특별시 종로구 삼청동(1111054000)                1              1              0   \n",
       "\n",
       "                            2023년09월_계_99세 2023년09월_계_100세 이상  \n",
       "행정구역                                                           \n",
       "서울특별시  (1100000000)                    703              1,505  \n",
       "서울특별시 종로구 (1111000000)                  16                 39  \n",
       "서울특별시 종로구 청운효자동(1111051500)              3                  3  \n",
       "서울특별시 종로구 사직동(1111053000)                2                  5  \n",
       "서울특별시 종로구 삼청동(1111054000)                0                  2  \n",
       "\n",
       "[5 rows x 103 columns]"
      ]
     },
     "execution_count": 3,
     "metadata": {},
     "output_type": "execute_result"
    }
   ],
   "source": [
    "import pandas as pd\n",
    "df = pd.read_csv('age.csv', encoding='cp949', index_col=0)\n",
    "df.head()"
   ]
  },
  {
   "cell_type": "code",
   "execution_count": 4,
   "metadata": {},
   "outputs": [
    {
     "data": {
      "text/plain": [
       "2023년09월_계_총인구수       object\n",
       "2023년09월_계_연령구간인구수    object\n",
       "2023년09월_계_0세         object\n",
       "2023년09월_계_1세         object\n",
       "2023년09월_계_2세         object\n",
       "                       ...  \n",
       "2023년09월_계_96세        object\n",
       "2023년09월_계_97세        object\n",
       "2023년09월_계_98세        object\n",
       "2023년09월_계_99세         int64\n",
       "2023년09월_계_100세 이상    object\n",
       "Length: 103, dtype: object"
      ]
     },
     "execution_count": 4,
     "metadata": {},
     "output_type": "execute_result"
    }
   ],
   "source": [
    "import pandas as pd\n",
    "df = pd.read_csv('age.csv', encoding='cp949', index_col=0)\n",
    "df.dtypes"
   ]
  },
  {
   "cell_type": "code",
   "execution_count": 5,
   "metadata": {},
   "outputs": [
    {
     "data": {
      "text/html": [
       "<div>\n",
       "<style scoped>\n",
       "    .dataframe tbody tr th:only-of-type {\n",
       "        vertical-align: middle;\n",
       "    }\n",
       "\n",
       "    .dataframe tbody tr th {\n",
       "        vertical-align: top;\n",
       "    }\n",
       "\n",
       "    .dataframe thead th {\n",
       "        text-align: right;\n",
       "    }\n",
       "</style>\n",
       "<table border=\"1\" class=\"dataframe\">\n",
       "  <thead>\n",
       "    <tr style=\"text-align: right;\">\n",
       "      <th></th>\n",
       "      <th>2023년09월_계_총인구수</th>\n",
       "      <th>2023년09월_계_연령구간인구수</th>\n",
       "      <th>2023년09월_계_0세</th>\n",
       "      <th>2023년09월_계_1세</th>\n",
       "      <th>2023년09월_계_2세</th>\n",
       "      <th>2023년09월_계_3세</th>\n",
       "      <th>2023년09월_계_4세</th>\n",
       "      <th>2023년09월_계_5세</th>\n",
       "      <th>2023년09월_계_6세</th>\n",
       "      <th>2023년09월_계_7세</th>\n",
       "      <th>...</th>\n",
       "      <th>2023년09월_계_91세</th>\n",
       "      <th>2023년09월_계_92세</th>\n",
       "      <th>2023년09월_계_93세</th>\n",
       "      <th>2023년09월_계_94세</th>\n",
       "      <th>2023년09월_계_95세</th>\n",
       "      <th>2023년09월_계_96세</th>\n",
       "      <th>2023년09월_계_97세</th>\n",
       "      <th>2023년09월_계_98세</th>\n",
       "      <th>2023년09월_계_99세</th>\n",
       "      <th>2023년09월_계_100세 이상</th>\n",
       "    </tr>\n",
       "    <tr>\n",
       "      <th>행정구역</th>\n",
       "      <th></th>\n",
       "      <th></th>\n",
       "      <th></th>\n",
       "      <th></th>\n",
       "      <th></th>\n",
       "      <th></th>\n",
       "      <th></th>\n",
       "      <th></th>\n",
       "      <th></th>\n",
       "      <th></th>\n",
       "      <th></th>\n",
       "      <th></th>\n",
       "      <th></th>\n",
       "      <th></th>\n",
       "      <th></th>\n",
       "      <th></th>\n",
       "      <th></th>\n",
       "      <th></th>\n",
       "      <th></th>\n",
       "      <th></th>\n",
       "      <th></th>\n",
       "    </tr>\n",
       "  </thead>\n",
       "  <tbody>\n",
       "    <tr>\n",
       "      <th>서울특별시  (1100000000)</th>\n",
       "      <td>9407540</td>\n",
       "      <td>9407540</td>\n",
       "      <td>38101</td>\n",
       "      <td>41599</td>\n",
       "      <td>43518</td>\n",
       "      <td>44893</td>\n",
       "      <td>48097</td>\n",
       "      <td>51107</td>\n",
       "      <td>56215</td>\n",
       "      <td>64176</td>\n",
       "      <td>...</td>\n",
       "      <td>8984</td>\n",
       "      <td>6319</td>\n",
       "      <td>5441</td>\n",
       "      <td>4430</td>\n",
       "      <td>3158</td>\n",
       "      <td>2286</td>\n",
       "      <td>1306</td>\n",
       "      <td>916</td>\n",
       "      <td>703</td>\n",
       "      <td>1505</td>\n",
       "    </tr>\n",
       "    <tr>\n",
       "      <th>서울특별시 종로구 (1111000000)</th>\n",
       "      <td>139945</td>\n",
       "      <td>139945</td>\n",
       "      <td>397</td>\n",
       "      <td>470</td>\n",
       "      <td>463</td>\n",
       "      <td>524</td>\n",
       "      <td>516</td>\n",
       "      <td>578</td>\n",
       "      <td>670</td>\n",
       "      <td>778</td>\n",
       "      <td>...</td>\n",
       "      <td>172</td>\n",
       "      <td>146</td>\n",
       "      <td>110</td>\n",
       "      <td>93</td>\n",
       "      <td>71</td>\n",
       "      <td>55</td>\n",
       "      <td>36</td>\n",
       "      <td>21</td>\n",
       "      <td>16</td>\n",
       "      <td>39</td>\n",
       "    </tr>\n",
       "    <tr>\n",
       "      <th>서울특별시 종로구 청운효자동(1111051500)</th>\n",
       "      <td>11391</td>\n",
       "      <td>11391</td>\n",
       "      <td>35</td>\n",
       "      <td>45</td>\n",
       "      <td>46</td>\n",
       "      <td>47</td>\n",
       "      <td>50</td>\n",
       "      <td>47</td>\n",
       "      <td>76</td>\n",
       "      <td>86</td>\n",
       "      <td>...</td>\n",
       "      <td>14</td>\n",
       "      <td>14</td>\n",
       "      <td>7</td>\n",
       "      <td>8</td>\n",
       "      <td>4</td>\n",
       "      <td>5</td>\n",
       "      <td>3</td>\n",
       "      <td>1</td>\n",
       "      <td>3</td>\n",
       "      <td>3</td>\n",
       "    </tr>\n",
       "    <tr>\n",
       "      <th>서울특별시 종로구 사직동(1111053000)</th>\n",
       "      <td>9042</td>\n",
       "      <td>9042</td>\n",
       "      <td>24</td>\n",
       "      <td>32</td>\n",
       "      <td>35</td>\n",
       "      <td>37</td>\n",
       "      <td>40</td>\n",
       "      <td>49</td>\n",
       "      <td>56</td>\n",
       "      <td>60</td>\n",
       "      <td>...</td>\n",
       "      <td>8</td>\n",
       "      <td>15</td>\n",
       "      <td>10</td>\n",
       "      <td>16</td>\n",
       "      <td>5</td>\n",
       "      <td>5</td>\n",
       "      <td>2</td>\n",
       "      <td>5</td>\n",
       "      <td>2</td>\n",
       "      <td>5</td>\n",
       "    </tr>\n",
       "    <tr>\n",
       "      <th>서울특별시 종로구 삼청동(1111054000)</th>\n",
       "      <td>2252</td>\n",
       "      <td>2252</td>\n",
       "      <td>7</td>\n",
       "      <td>4</td>\n",
       "      <td>8</td>\n",
       "      <td>7</td>\n",
       "      <td>4</td>\n",
       "      <td>9</td>\n",
       "      <td>13</td>\n",
       "      <td>10</td>\n",
       "      <td>...</td>\n",
       "      <td>7</td>\n",
       "      <td>3</td>\n",
       "      <td>5</td>\n",
       "      <td>1</td>\n",
       "      <td>2</td>\n",
       "      <td>1</td>\n",
       "      <td>1</td>\n",
       "      <td>0</td>\n",
       "      <td>0</td>\n",
       "      <td>2</td>\n",
       "    </tr>\n",
       "  </tbody>\n",
       "</table>\n",
       "<p>5 rows × 103 columns</p>\n",
       "</div>"
      ],
      "text/plain": [
       "                            2023년09월_계_총인구수 2023년09월_계_연령구간인구수 2023년09월_계_0세  \\\n",
       "행정구역                                                                           \n",
       "서울특별시  (1100000000)                 9407540            9407540         38101   \n",
       "서울특별시 종로구 (1111000000)               139945             139945           397   \n",
       "서울특별시 종로구 청운효자동(1111051500)           11391              11391            35   \n",
       "서울특별시 종로구 사직동(1111053000)              9042               9042            24   \n",
       "서울특별시 종로구 삼청동(1111054000)              2252               2252             7   \n",
       "\n",
       "                            2023년09월_계_1세 2023년09월_계_2세 2023년09월_계_3세  \\\n",
       "행정구역                                                                    \n",
       "서울특별시  (1100000000)                 41599         43518         44893   \n",
       "서울특별시 종로구 (1111000000)                470           463           524   \n",
       "서울특별시 종로구 청운효자동(1111051500)            45            46            47   \n",
       "서울특별시 종로구 사직동(1111053000)              32            35            37   \n",
       "서울특별시 종로구 삼청동(1111054000)               4             8             7   \n",
       "\n",
       "                            2023년09월_계_4세 2023년09월_계_5세 2023년09월_계_6세  \\\n",
       "행정구역                                                                    \n",
       "서울특별시  (1100000000)                 48097         51107         56215   \n",
       "서울특별시 종로구 (1111000000)                516           578           670   \n",
       "서울특별시 종로구 청운효자동(1111051500)            50            47            76   \n",
       "서울특별시 종로구 사직동(1111053000)              40            49            56   \n",
       "서울특별시 종로구 삼청동(1111054000)               4             9            13   \n",
       "\n",
       "                            2023년09월_계_7세  ... 2023년09월_계_91세 2023년09월_계_92세  \\\n",
       "행정구역                                       ...                                 \n",
       "서울특별시  (1100000000)                 64176  ...           8984           6319   \n",
       "서울특별시 종로구 (1111000000)                778  ...            172            146   \n",
       "서울특별시 종로구 청운효자동(1111051500)            86  ...             14             14   \n",
       "서울특별시 종로구 사직동(1111053000)              60  ...              8             15   \n",
       "서울특별시 종로구 삼청동(1111054000)              10  ...              7              3   \n",
       "\n",
       "                            2023년09월_계_93세 2023년09월_계_94세 2023년09월_계_95세  \\\n",
       "행정구역                                                                       \n",
       "서울특별시  (1100000000)                   5441           4430           3158   \n",
       "서울특별시 종로구 (1111000000)                 110             93             71   \n",
       "서울특별시 종로구 청운효자동(1111051500)              7              8              4   \n",
       "서울특별시 종로구 사직동(1111053000)               10             16              5   \n",
       "서울특별시 종로구 삼청동(1111054000)                5              1              2   \n",
       "\n",
       "                            2023년09월_계_96세 2023년09월_계_97세 2023년09월_계_98세  \\\n",
       "행정구역                                                                       \n",
       "서울특별시  (1100000000)                   2286           1306            916   \n",
       "서울특별시 종로구 (1111000000)                  55             36             21   \n",
       "서울특별시 종로구 청운효자동(1111051500)              5              3              1   \n",
       "서울특별시 종로구 사직동(1111053000)                5              2              5   \n",
       "서울특별시 종로구 삼청동(1111054000)                1              1              0   \n",
       "\n",
       "                            2023년09월_계_99세 2023년09월_계_100세 이상  \n",
       "행정구역                                                           \n",
       "서울특별시  (1100000000)                    703               1505  \n",
       "서울특별시 종로구 (1111000000)                  16                 39  \n",
       "서울특별시 종로구 청운효자동(1111051500)              3                  3  \n",
       "서울특별시 종로구 사직동(1111053000)                2                  5  \n",
       "서울특별시 종로구 삼청동(1111054000)                0                  2  \n",
       "\n",
       "[5 rows x 103 columns]"
      ]
     },
     "execution_count": 5,
     "metadata": {},
     "output_type": "execute_result"
    }
   ],
   "source": [
    "import pandas as pd\n",
    "df = pd.read_csv('age.csv', encoding='cp949', index_col=0)\n",
    "\n",
    "df = df.replace(',', '', regex=True)\n",
    "df.head()"
   ]
  },
  {
   "cell_type": "code",
   "execution_count": 7,
   "metadata": {},
   "outputs": [
    {
     "data": {
      "text/plain": [
       "2023년09월_계_총인구수       int64\n",
       "2023년09월_계_연령구간인구수    int64\n",
       "2023년09월_계_0세         int64\n",
       "2023년09월_계_1세         int64\n",
       "2023년09월_계_2세         int64\n",
       "                      ...  \n",
       "2023년09월_계_96세        int64\n",
       "2023년09월_계_97세        int64\n",
       "2023년09월_계_98세        int64\n",
       "2023년09월_계_99세        int64\n",
       "2023년09월_계_100세 이상    int64\n",
       "Length: 103, dtype: object"
      ]
     },
     "execution_count": 7,
     "metadata": {},
     "output_type": "execute_result"
    }
   ],
   "source": [
    "import pandas as pd\n",
    "df = pd.read_csv('age.csv', encoding='cp949', index_col=0)\n",
    "df = df.replace(',', '', regex=True)\n",
    "df = df.apply(pd.to_numeric)\n",
    "df.dtypes"
   ]
  },
  {
   "cell_type": "code",
   "execution_count": 11,
   "metadata": {},
   "outputs": [
    {
     "data": {
      "text/html": [
       "<div>\n",
       "<style scoped>\n",
       "    .dataframe tbody tr th:only-of-type {\n",
       "        vertical-align: middle;\n",
       "    }\n",
       "\n",
       "    .dataframe tbody tr th {\n",
       "        vertical-align: top;\n",
       "    }\n",
       "\n",
       "    .dataframe thead th {\n",
       "        text-align: right;\n",
       "    }\n",
       "</style>\n",
       "<table border=\"1\" class=\"dataframe\">\n",
       "  <thead>\n",
       "    <tr style=\"text-align: right;\">\n",
       "      <th></th>\n",
       "      <th>2023년09월_계_총인구수</th>\n",
       "      <th>2023년09월_계_연령구간인구수</th>\n",
       "      <th>2023년09월_계_0세</th>\n",
       "      <th>2023년09월_계_1세</th>\n",
       "      <th>2023년09월_계_2세</th>\n",
       "      <th>2023년09월_계_3세</th>\n",
       "      <th>2023년09월_계_4세</th>\n",
       "      <th>2023년09월_계_5세</th>\n",
       "      <th>2023년09월_계_6세</th>\n",
       "      <th>2023년09월_계_7세</th>\n",
       "      <th>...</th>\n",
       "      <th>2023년09월_계_91세</th>\n",
       "      <th>2023년09월_계_92세</th>\n",
       "      <th>2023년09월_계_93세</th>\n",
       "      <th>2023년09월_계_94세</th>\n",
       "      <th>2023년09월_계_95세</th>\n",
       "      <th>2023년09월_계_96세</th>\n",
       "      <th>2023년09월_계_97세</th>\n",
       "      <th>2023년09월_계_98세</th>\n",
       "      <th>2023년09월_계_99세</th>\n",
       "      <th>2023년09월_계_100세 이상</th>\n",
       "    </tr>\n",
       "    <tr>\n",
       "      <th>행정구역</th>\n",
       "      <th></th>\n",
       "      <th></th>\n",
       "      <th></th>\n",
       "      <th></th>\n",
       "      <th></th>\n",
       "      <th></th>\n",
       "      <th></th>\n",
       "      <th></th>\n",
       "      <th></th>\n",
       "      <th></th>\n",
       "      <th></th>\n",
       "      <th></th>\n",
       "      <th></th>\n",
       "      <th></th>\n",
       "      <th></th>\n",
       "      <th></th>\n",
       "      <th></th>\n",
       "      <th></th>\n",
       "      <th></th>\n",
       "      <th></th>\n",
       "      <th></th>\n",
       "    </tr>\n",
       "  </thead>\n",
       "  <tbody>\n",
       "    <tr>\n",
       "      <th>서울특별시  (1100000000)</th>\n",
       "      <td>1.0</td>\n",
       "      <td>1.0</td>\n",
       "      <td>0.004050</td>\n",
       "      <td>0.004422</td>\n",
       "      <td>0.004626</td>\n",
       "      <td>0.004772</td>\n",
       "      <td>0.005113</td>\n",
       "      <td>0.005433</td>\n",
       "      <td>0.005976</td>\n",
       "      <td>0.006822</td>\n",
       "      <td>...</td>\n",
       "      <td>0.000955</td>\n",
       "      <td>0.000672</td>\n",
       "      <td>0.000578</td>\n",
       "      <td>0.000471</td>\n",
       "      <td>0.000336</td>\n",
       "      <td>0.000243</td>\n",
       "      <td>0.000139</td>\n",
       "      <td>0.000097</td>\n",
       "      <td>0.000075</td>\n",
       "      <td>0.000160</td>\n",
       "    </tr>\n",
       "    <tr>\n",
       "      <th>서울특별시 종로구 (1111000000)</th>\n",
       "      <td>1.0</td>\n",
       "      <td>1.0</td>\n",
       "      <td>0.002837</td>\n",
       "      <td>0.003358</td>\n",
       "      <td>0.003308</td>\n",
       "      <td>0.003744</td>\n",
       "      <td>0.003687</td>\n",
       "      <td>0.004130</td>\n",
       "      <td>0.004788</td>\n",
       "      <td>0.005559</td>\n",
       "      <td>...</td>\n",
       "      <td>0.001229</td>\n",
       "      <td>0.001043</td>\n",
       "      <td>0.000786</td>\n",
       "      <td>0.000665</td>\n",
       "      <td>0.000507</td>\n",
       "      <td>0.000393</td>\n",
       "      <td>0.000257</td>\n",
       "      <td>0.000150</td>\n",
       "      <td>0.000114</td>\n",
       "      <td>0.000279</td>\n",
       "    </tr>\n",
       "    <tr>\n",
       "      <th>서울특별시 종로구 청운효자동(1111051500)</th>\n",
       "      <td>1.0</td>\n",
       "      <td>1.0</td>\n",
       "      <td>0.003073</td>\n",
       "      <td>0.003950</td>\n",
       "      <td>0.004038</td>\n",
       "      <td>0.004126</td>\n",
       "      <td>0.004389</td>\n",
       "      <td>0.004126</td>\n",
       "      <td>0.006672</td>\n",
       "      <td>0.007550</td>\n",
       "      <td>...</td>\n",
       "      <td>0.001229</td>\n",
       "      <td>0.001229</td>\n",
       "      <td>0.000615</td>\n",
       "      <td>0.000702</td>\n",
       "      <td>0.000351</td>\n",
       "      <td>0.000439</td>\n",
       "      <td>0.000263</td>\n",
       "      <td>0.000088</td>\n",
       "      <td>0.000263</td>\n",
       "      <td>0.000263</td>\n",
       "    </tr>\n",
       "  </tbody>\n",
       "</table>\n",
       "<p>3 rows × 103 columns</p>\n",
       "</div>"
      ],
      "text/plain": [
       "                             2023년09월_계_총인구수  2023년09월_계_연령구간인구수  \\\n",
       "행정구역                                                               \n",
       "서울특별시  (1100000000)                      1.0                 1.0   \n",
       "서울특별시 종로구 (1111000000)                   1.0                 1.0   \n",
       "서울특별시 종로구 청운효자동(1111051500)              1.0                 1.0   \n",
       "\n",
       "                             2023년09월_계_0세  2023년09월_계_1세  2023년09월_계_2세  \\\n",
       "행정구역                                                                       \n",
       "서울특별시  (1100000000)               0.004050       0.004422       0.004626   \n",
       "서울특별시 종로구 (1111000000)            0.002837       0.003358       0.003308   \n",
       "서울특별시 종로구 청운효자동(1111051500)       0.003073       0.003950       0.004038   \n",
       "\n",
       "                             2023년09월_계_3세  2023년09월_계_4세  2023년09월_계_5세  \\\n",
       "행정구역                                                                       \n",
       "서울특별시  (1100000000)               0.004772       0.005113       0.005433   \n",
       "서울특별시 종로구 (1111000000)            0.003744       0.003687       0.004130   \n",
       "서울특별시 종로구 청운효자동(1111051500)       0.004126       0.004389       0.004126   \n",
       "\n",
       "                             2023년09월_계_6세  2023년09월_계_7세  ...  \\\n",
       "행정구역                                                       ...   \n",
       "서울특별시  (1100000000)               0.005976       0.006822  ...   \n",
       "서울특별시 종로구 (1111000000)            0.004788       0.005559  ...   \n",
       "서울특별시 종로구 청운효자동(1111051500)       0.006672       0.007550  ...   \n",
       "\n",
       "                             2023년09월_계_91세  2023년09월_계_92세  2023년09월_계_93세  \\\n",
       "행정구역                                                                          \n",
       "서울특별시  (1100000000)                0.000955        0.000672        0.000578   \n",
       "서울특별시 종로구 (1111000000)             0.001229        0.001043        0.000786   \n",
       "서울특별시 종로구 청운효자동(1111051500)        0.001229        0.001229        0.000615   \n",
       "\n",
       "                             2023년09월_계_94세  2023년09월_계_95세  2023년09월_계_96세  \\\n",
       "행정구역                                                                          \n",
       "서울특별시  (1100000000)                0.000471        0.000336        0.000243   \n",
       "서울특별시 종로구 (1111000000)             0.000665        0.000507        0.000393   \n",
       "서울특별시 종로구 청운효자동(1111051500)        0.000702        0.000351        0.000439   \n",
       "\n",
       "                             2023년09월_계_97세  2023년09월_계_98세  2023년09월_계_99세  \\\n",
       "행정구역                                                                          \n",
       "서울특별시  (1100000000)                0.000139        0.000097        0.000075   \n",
       "서울특별시 종로구 (1111000000)             0.000257        0.000150        0.000114   \n",
       "서울특별시 종로구 청운효자동(1111051500)        0.000263        0.000088        0.000263   \n",
       "\n",
       "                             2023년09월_계_100세 이상  \n",
       "행정구역                                             \n",
       "서울특별시  (1100000000)                    0.000160  \n",
       "서울특별시 종로구 (1111000000)                 0.000279  \n",
       "서울특별시 종로구 청운효자동(1111051500)            0.000263  \n",
       "\n",
       "[3 rows x 103 columns]"
      ]
     },
     "execution_count": 11,
     "metadata": {},
     "output_type": "execute_result"
    }
   ],
   "source": [
    "import pandas as pd\n",
    "df = pd.read_csv('age.csv', encoding='cp949', index_col=0)\n",
    "df = df.replace(',', '', regex=True)\n",
    "df = df.apply(pd.to_numeric)\n",
    "df = df.div(df['2023년09월_계_총인구수'], axis='index')\n",
    "df.head(3)"
   ]
  },
  {
   "cell_type": "code",
   "execution_count": 14,
   "metadata": {},
   "outputs": [
    {
     "data": {
      "text/html": [
       "<div>\n",
       "<style scoped>\n",
       "    .dataframe tbody tr th:only-of-type {\n",
       "        vertical-align: middle;\n",
       "    }\n",
       "\n",
       "    .dataframe tbody tr th {\n",
       "        vertical-align: top;\n",
       "    }\n",
       "\n",
       "    .dataframe thead th {\n",
       "        text-align: right;\n",
       "    }\n",
       "</style>\n",
       "<table border=\"1\" class=\"dataframe\">\n",
       "  <thead>\n",
       "    <tr style=\"text-align: right;\">\n",
       "      <th></th>\n",
       "      <th>2023년09월_계_0세</th>\n",
       "      <th>2023년09월_계_1세</th>\n",
       "      <th>2023년09월_계_2세</th>\n",
       "      <th>2023년09월_계_3세</th>\n",
       "      <th>2023년09월_계_4세</th>\n",
       "      <th>2023년09월_계_5세</th>\n",
       "      <th>2023년09월_계_6세</th>\n",
       "      <th>2023년09월_계_7세</th>\n",
       "      <th>2023년09월_계_8세</th>\n",
       "      <th>2023년09월_계_9세</th>\n",
       "      <th>...</th>\n",
       "      <th>2023년09월_계_91세</th>\n",
       "      <th>2023년09월_계_92세</th>\n",
       "      <th>2023년09월_계_93세</th>\n",
       "      <th>2023년09월_계_94세</th>\n",
       "      <th>2023년09월_계_95세</th>\n",
       "      <th>2023년09월_계_96세</th>\n",
       "      <th>2023년09월_계_97세</th>\n",
       "      <th>2023년09월_계_98세</th>\n",
       "      <th>2023년09월_계_99세</th>\n",
       "      <th>2023년09월_계_100세 이상</th>\n",
       "    </tr>\n",
       "    <tr>\n",
       "      <th>행정구역</th>\n",
       "      <th></th>\n",
       "      <th></th>\n",
       "      <th></th>\n",
       "      <th></th>\n",
       "      <th></th>\n",
       "      <th></th>\n",
       "      <th></th>\n",
       "      <th></th>\n",
       "      <th></th>\n",
       "      <th></th>\n",
       "      <th></th>\n",
       "      <th></th>\n",
       "      <th></th>\n",
       "      <th></th>\n",
       "      <th></th>\n",
       "      <th></th>\n",
       "      <th></th>\n",
       "      <th></th>\n",
       "      <th></th>\n",
       "      <th></th>\n",
       "      <th></th>\n",
       "    </tr>\n",
       "  </thead>\n",
       "  <tbody>\n",
       "    <tr>\n",
       "      <th>서울특별시 구로구 신도림동(1153051000)</th>\n",
       "      <td>0.006206</td>\n",
       "      <td>0.007016</td>\n",
       "      <td>0.007128</td>\n",
       "      <td>0.007296</td>\n",
       "      <td>0.008582</td>\n",
       "      <td>0.007631</td>\n",
       "      <td>0.008442</td>\n",
       "      <td>0.010259</td>\n",
       "      <td>0.011489</td>\n",
       "      <td>0.010846</td>\n",
       "      <td>...</td>\n",
       "      <td>0.000559</td>\n",
       "      <td>0.000391</td>\n",
       "      <td>0.000168</td>\n",
       "      <td>0.000335</td>\n",
       "      <td>0.000307</td>\n",
       "      <td>0.000168</td>\n",
       "      <td>0.000168</td>\n",
       "      <td>0.000196</td>\n",
       "      <td>0.0</td>\n",
       "      <td>0.000112</td>\n",
       "    </tr>\n",
       "  </tbody>\n",
       "</table>\n",
       "<p>1 rows × 101 columns</p>\n",
       "</div>"
      ],
      "text/plain": [
       "                            2023년09월_계_0세  2023년09월_계_1세  2023년09월_계_2세  \\\n",
       "행정구역                                                                      \n",
       "서울특별시 구로구 신도림동(1153051000)       0.006206       0.007016       0.007128   \n",
       "\n",
       "                            2023년09월_계_3세  2023년09월_계_4세  2023년09월_계_5세  \\\n",
       "행정구역                                                                      \n",
       "서울특별시 구로구 신도림동(1153051000)       0.007296       0.008582       0.007631   \n",
       "\n",
       "                            2023년09월_계_6세  2023년09월_계_7세  2023년09월_계_8세  \\\n",
       "행정구역                                                                      \n",
       "서울특별시 구로구 신도림동(1153051000)       0.008442       0.010259       0.011489   \n",
       "\n",
       "                            2023년09월_계_9세  ...  2023년09월_계_91세  \\\n",
       "행정구역                                       ...                   \n",
       "서울특별시 구로구 신도림동(1153051000)       0.010846  ...        0.000559   \n",
       "\n",
       "                            2023년09월_계_92세  2023년09월_계_93세  2023년09월_계_94세  \\\n",
       "행정구역                                                                         \n",
       "서울특별시 구로구 신도림동(1153051000)        0.000391        0.000168        0.000335   \n",
       "\n",
       "                            2023년09월_계_95세  2023년09월_계_96세  2023년09월_계_97세  \\\n",
       "행정구역                                                                         \n",
       "서울특별시 구로구 신도림동(1153051000)        0.000307        0.000168        0.000168   \n",
       "\n",
       "                            2023년09월_계_98세  2023년09월_계_99세  2023년09월_계_100세 이상  \n",
       "행정구역                                                                            \n",
       "서울특별시 구로구 신도림동(1153051000)        0.000196             0.0            0.000112  \n",
       "\n",
       "[1 rows x 101 columns]"
      ]
     },
     "execution_count": 14,
     "metadata": {},
     "output_type": "execute_result"
    }
   ],
   "source": [
    "import pandas as pd\n",
    "df = pd.read_csv('age.csv', encoding='cp949', index_col=0)\n",
    "df = df.replace(',', '', regex=True)\n",
    "df = df.apply(pd.to_numeric)\n",
    "df = df.div(df['2023년09월_계_총인구수'], axis='index')\n",
    "del df['2023년09월_계_총인구수'], df['2023년09월_계_연령구간인구수']\n",
    "\n",
    "name = input('원하는 지역의 이름을 입력하세요: ')\n",
    "\n",
    "a = df.index.str.contains(name)\n",
    "\n",
    "df2 = df[a]\n",
    "df2"
   ]
  },
  {
   "cell_type": "code",
   "execution_count": 19,
   "metadata": {},
   "outputs": [
    {
     "data": {
      "image/png": "[encoded data removed]",
      "text/plain": [
       "<Figure size 640x480 with 1 Axes>"
      ]
     },
     "metadata": {},
     "output_type": "display_data"
    }
   ],
   "source": [
    "import pandas as pd\n",
    "import matplotlib.pyplot as plt\n",
    "df = pd.read_csv('age.csv', encoding='cp949', index_col=0)\n",
    "df = df.replace(',', '', regex=True)\n",
    "df = df.apply(pd.to_numeric)\n",
    "df = df.div(df['2023년09월_계_총인구수'], axis='index')\n",
    "del df['2023년09월_계_총인구수'], df['2023년09월_계_연령구간인구수']\n",
    "\n",
    "name = input('원하는 지역의 이름을 입력하세요: ')\n",
    "\n",
    "a = df.index.str.contains(name)\n",
    "\n",
    "df2 = df[a]\n",
    "\n",
    "plt.rc('font', family='Malgun Gothic')\n",
    "df2.T.plot()\n",
    "plt.show()"
   ]
  },
  {
   "cell_type": "code",
   "execution_count": 20,
   "metadata": {},
   "outputs": [
    {
     "data": {
      "text/html": [
       "<div>\n",
       "<style scoped>\n",
       "    .dataframe tbody tr th:only-of-type {\n",
       "        vertical-align: middle;\n",
       "    }\n",
       "\n",
       "    .dataframe tbody tr th {\n",
       "        vertical-align: top;\n",
       "    }\n",
       "\n",
       "    .dataframe thead th {\n",
       "        text-align: right;\n",
       "    }\n",
       "</style>\n",
       "<table border=\"1\" class=\"dataframe\">\n",
       "  <thead>\n",
       "    <tr style=\"text-align: right;\">\n",
       "      <th></th>\n",
       "      <th>2023년09월_계_0세</th>\n",
       "      <th>2023년09월_계_1세</th>\n",
       "      <th>2023년09월_계_2세</th>\n",
       "      <th>2023년09월_계_3세</th>\n",
       "      <th>2023년09월_계_4세</th>\n",
       "      <th>2023년09월_계_5세</th>\n",
       "      <th>2023년09월_계_6세</th>\n",
       "      <th>2023년09월_계_7세</th>\n",
       "      <th>2023년09월_계_8세</th>\n",
       "      <th>2023년09월_계_9세</th>\n",
       "      <th>...</th>\n",
       "      <th>2023년09월_계_91세</th>\n",
       "      <th>2023년09월_계_92세</th>\n",
       "      <th>2023년09월_계_93세</th>\n",
       "      <th>2023년09월_계_94세</th>\n",
       "      <th>2023년09월_계_95세</th>\n",
       "      <th>2023년09월_계_96세</th>\n",
       "      <th>2023년09월_계_97세</th>\n",
       "      <th>2023년09월_계_98세</th>\n",
       "      <th>2023년09월_계_99세</th>\n",
       "      <th>2023년09월_계_100세 이상</th>\n",
       "    </tr>\n",
       "    <tr>\n",
       "      <th>행정구역</th>\n",
       "      <th></th>\n",
       "      <th></th>\n",
       "      <th></th>\n",
       "      <th></th>\n",
       "      <th></th>\n",
       "      <th></th>\n",
       "      <th></th>\n",
       "      <th></th>\n",
       "      <th></th>\n",
       "      <th></th>\n",
       "      <th></th>\n",
       "      <th></th>\n",
       "      <th></th>\n",
       "      <th></th>\n",
       "      <th></th>\n",
       "      <th></th>\n",
       "      <th></th>\n",
       "      <th></th>\n",
       "      <th></th>\n",
       "      <th></th>\n",
       "      <th></th>\n",
       "    </tr>\n",
       "  </thead>\n",
       "  <tbody>\n",
       "    <tr>\n",
       "      <th>서울특별시  (1100000000)</th>\n",
       "      <td>-0.002156</td>\n",
       "      <td>-0.002594</td>\n",
       "      <td>-0.002502</td>\n",
       "      <td>-0.002524</td>\n",
       "      <td>-0.003469</td>\n",
       "      <td>-0.002199</td>\n",
       "      <td>-0.002466</td>\n",
       "      <td>-0.003437</td>\n",
       "      <td>-0.004415</td>\n",
       "      <td>-0.003768</td>\n",
       "      <td>...</td>\n",
       "      <td>0.000396</td>\n",
       "      <td>0.000280</td>\n",
       "      <td>0.000411</td>\n",
       "      <td>0.000135</td>\n",
       "      <td>0.000028</td>\n",
       "      <td>0.000075</td>\n",
       "      <td>-0.000029</td>\n",
       "      <td>-0.000098</td>\n",
       "      <td>0.000075</td>\n",
       "      <td>0.000048</td>\n",
       "    </tr>\n",
       "    <tr>\n",
       "      <th>서울특별시 종로구 (1111000000)</th>\n",
       "      <td>-0.003369</td>\n",
       "      <td>-0.003658</td>\n",
       "      <td>-0.003820</td>\n",
       "      <td>-0.003551</td>\n",
       "      <td>-0.004894</td>\n",
       "      <td>-0.003501</td>\n",
       "      <td>-0.003654</td>\n",
       "      <td>-0.004700</td>\n",
       "      <td>-0.005808</td>\n",
       "      <td>-0.004865</td>\n",
       "      <td>...</td>\n",
       "      <td>0.000670</td>\n",
       "      <td>0.000652</td>\n",
       "      <td>0.000618</td>\n",
       "      <td>0.000329</td>\n",
       "      <td>0.000200</td>\n",
       "      <td>0.000225</td>\n",
       "      <td>0.000090</td>\n",
       "      <td>-0.000046</td>\n",
       "      <td>0.000114</td>\n",
       "      <td>0.000167</td>\n",
       "    </tr>\n",
       "    <tr>\n",
       "      <th>서울특별시 종로구 청운효자동(1111051500)</th>\n",
       "      <td>-0.003133</td>\n",
       "      <td>-0.003066</td>\n",
       "      <td>-0.003090</td>\n",
       "      <td>-0.003170</td>\n",
       "      <td>-0.004192</td>\n",
       "      <td>-0.003505</td>\n",
       "      <td>-0.001770</td>\n",
       "      <td>-0.002709</td>\n",
       "      <td>-0.003939</td>\n",
       "      <td>-0.003384</td>\n",
       "      <td>...</td>\n",
       "      <td>0.000670</td>\n",
       "      <td>0.000838</td>\n",
       "      <td>0.000447</td>\n",
       "      <td>0.000367</td>\n",
       "      <td>0.000044</td>\n",
       "      <td>0.000271</td>\n",
       "      <td>0.000096</td>\n",
       "      <td>-0.000108</td>\n",
       "      <td>0.000263</td>\n",
       "      <td>0.000152</td>\n",
       "    </tr>\n",
       "  </tbody>\n",
       "</table>\n",
       "<p>3 rows × 101 columns</p>\n",
       "</div>"
      ],
      "text/plain": [
       "                             2023년09월_계_0세  2023년09월_계_1세  2023년09월_계_2세  \\\n",
       "행정구역                                                                       \n",
       "서울특별시  (1100000000)              -0.002156      -0.002594      -0.002502   \n",
       "서울특별시 종로구 (1111000000)           -0.003369      -0.003658      -0.003820   \n",
       "서울특별시 종로구 청운효자동(1111051500)      -0.003133      -0.003066      -0.003090   \n",
       "\n",
       "                             2023년09월_계_3세  2023년09월_계_4세  2023년09월_계_5세  \\\n",
       "행정구역                                                                       \n",
       "서울특별시  (1100000000)              -0.002524      -0.003469      -0.002199   \n",
       "서울특별시 종로구 (1111000000)           -0.003551      -0.004894      -0.003501   \n",
       "서울특별시 종로구 청운효자동(1111051500)      -0.003170      -0.004192      -0.003505   \n",
       "\n",
       "                             2023년09월_계_6세  2023년09월_계_7세  2023년09월_계_8세  \\\n",
       "행정구역                                                                       \n",
       "서울특별시  (1100000000)              -0.002466      -0.003437      -0.004415   \n",
       "서울특별시 종로구 (1111000000)           -0.003654      -0.004700      -0.005808   \n",
       "서울특별시 종로구 청운효자동(1111051500)      -0.001770      -0.002709      -0.003939   \n",
       "\n",
       "                             2023년09월_계_9세  ...  2023년09월_계_91세  \\\n",
       "행정구역                                        ...                   \n",
       "서울특별시  (1100000000)              -0.003768  ...        0.000396   \n",
       "서울특별시 종로구 (1111000000)           -0.004865  ...        0.000670   \n",
       "서울특별시 종로구 청운효자동(1111051500)      -0.003384  ...        0.000670   \n",
       "\n",
       "                             2023년09월_계_92세  2023년09월_계_93세  2023년09월_계_94세  \\\n",
       "행정구역                                                                          \n",
       "서울특별시  (1100000000)                0.000280        0.000411        0.000135   \n",
       "서울특별시 종로구 (1111000000)             0.000652        0.000618        0.000329   \n",
       "서울특별시 종로구 청운효자동(1111051500)        0.000838        0.000447        0.000367   \n",
       "\n",
       "                             2023년09월_계_95세  2023년09월_계_96세  2023년09월_계_97세  \\\n",
       "행정구역                                                                          \n",
       "서울특별시  (1100000000)                0.000028        0.000075       -0.000029   \n",
       "서울특별시 종로구 (1111000000)             0.000200        0.000225        0.000090   \n",
       "서울특별시 종로구 청운효자동(1111051500)        0.000044        0.000271        0.000096   \n",
       "\n",
       "                             2023년09월_계_98세  2023년09월_계_99세  \\\n",
       "행정구역                                                          \n",
       "서울특별시  (1100000000)               -0.000098        0.000075   \n",
       "서울특별시 종로구 (1111000000)            -0.000046        0.000114   \n",
       "서울특별시 종로구 청운효자동(1111051500)       -0.000108        0.000263   \n",
       "\n",
       "                             2023년09월_계_100세 이상  \n",
       "행정구역                                             \n",
       "서울특별시  (1100000000)                    0.000048  \n",
       "서울특별시 종로구 (1111000000)                 0.000167  \n",
       "서울특별시 종로구 청운효자동(1111051500)            0.000152  \n",
       "\n",
       "[3 rows x 101 columns]"
      ]
     },
     "execution_count": 20,
     "metadata": {},
     "output_type": "execute_result"
    }
   ],
   "source": [
    "#A의 인구 비율에서 B의 인구 비율을 뺀다.\n",
    "x = df.sub(df2.iloc[0], axis='columns') #axis=1 이라고 적어도 됨\n",
    "x.head(3)"
   ]
  },
  {
   "cell_type": "code",
   "execution_count": 21,
   "metadata": {},
   "outputs": [
    {
     "data": {
      "text/plain": [
       "행정구역\n",
       "서울특별시  (1100000000)             0.000551\n",
       "서울특별시 종로구 (1111000000)          0.001098\n",
       "서울특별시 종로구 청운효자동(1111051500)     0.000512\n",
       "서울특별시 종로구 사직동(1111053000)       0.000730\n",
       "서울특별시 종로구 삼청동(1111054000)       0.001673\n",
       "                                  ...   \n",
       "제주특별자치도 서귀포시 서홍동(5013058000)    0.000644\n",
       "제주특별자치도 서귀포시 대륜동(5013059000)    0.000337\n",
       "제주특별자치도 서귀포시 대천동(5013060000)    0.000328\n",
       "제주특별자치도 서귀포시 중문동(5013061000)    0.000305\n",
       "제주특별자치도 서귀포시 예래동(5013062000)    0.002119\n",
       "Length: 3879, dtype: float64"
      ]
     },
     "execution_count": 21,
     "metadata": {},
     "output_type": "execute_result"
    }
   ],
   "source": [
    "# # 차이의 제곱값을 모두 더한다.\n",
    "import numpy as np\n",
    "y = np.power(x, 2)\n",
    "z = y.sum(axis='columns')\n",
    "z"
   ]
  },
  {
   "cell_type": "code",
   "execution_count": 22,
   "metadata": {},
   "outputs": [
    {
     "data": {
      "text/plain": [
       "Index(['경기도 화성시동탄출장소 (4159400000)', '경상남도 장유출장소 (4825200000)',\n",
       "       '경상남도 사천남양출장소 (4824500000)', '인천광역시 서구검단출장소 (2826500000)',\n",
       "       '인천광역시 중구용유출장소 (2811800000)'],\n",
       "      dtype='object', name='행정구역')"
      ]
     },
     "execution_count": 22,
     "metadata": {},
     "output_type": "execute_result"
    }
   ],
   "source": [
    "i = z.sort_values().index[:5]\n",
    "i"
   ]
  },
  {
   "cell_type": "code",
   "execution_count": 24,
   "metadata": {},
   "outputs": [
    {
     "data": {
      "image/png": "[encoded data removed]",
      "text/plain": [
       "<Figure size 1000x600 with 1 Axes>"
      ]
     },
     "metadata": {},
     "output_type": "display_data"
    }
   ],
   "source": [
    "plt.rc('font', family='Malgun Gothic')\n",
    "plt.rcParams['axes.unicode_minus'] = False\n",
    "df.loc[i].T.plot(figsize=(10, 6))\n",
    "plt.xlabel('나이')\n",
    "plt.ylabel('인구 비율')\n",
    "plt.grid(True)\n",
    "plt.show()"
   ]
  },
  {
   "cell_type": "code",
   "execution_count": 25,
   "metadata": {},
   "outputs": [
    {
     "data": {
      "image/png": "[encoded data removed]",
      "text/plain": [
       "<Figure size 1000x600 with 1 Axes>"
      ]
     },
     "metadata": {},
     "output_type": "display_data"
    }
   ],
   "source": [
    "import pandas as pd\n",
    "import matplotlib.pyplot as plt\n",
    "import numpy as np\n",
    "\n",
    "df = pd.read_csv('age.csv', encoding='cp949', index_col=0)\n",
    "df = df.replace(',', '', regex=True)\n",
    "df = df.apply(pd.to_numeric)\n",
    "df = df.div(df['2023년09월_계_총인구수'], axis='index')\n",
    "del df['2023년09월_계_총인구수'], df['2023년09월_계_연령구간인구수']\n",
    "\n",
    "name = input('원하는 지역의 이름을 입력하세요: ')\n",
    "\n",
    "a = df.index.str.contains(name)\n",
    "\n",
    "df2 = df[a]\n",
    "\n",
    "#A의 인구 비율에서 B의 인구 비율을 뺀다.\n",
    "x = df.sub(df2.iloc[0], axis='columns') #axis=1 이라고 적어도 됨\n",
    "\n",
    "y = np.power(x, 2)\n",
    "z = y.sum(axis='columns')\n",
    "z = z[z[:] != 0]\n",
    "\n",
    "i = z.sort_values().index[:5]\n",
    "\n",
    "plt.rc('font', family='Malgun Gothic')\n",
    "plt.rcParams['axes.unicode_minus'] = False\n",
    "df.loc[i].T.plot(figsize=(10, 6))\n",
    "plt.xlabel('나이')\n",
    "plt.ylabel('인구 비율')\n",
    "plt.grid(True)\n",
    "plt.show()"
   ]
  },
  {
   "attachments": {},
   "cell_type": "markdown",
   "metadata": {},
   "source": [
    "# 기말고사 힌트"
   ]
  },
  {
   "cell_type": "code",
   "execution_count": 26,
   "metadata": {},
   "outputs": [
    {
     "data": {
      "text/plain": [
       "True"
      ]
     },
     "execution_count": 26,
     "metadata": {},
     "output_type": "execute_result"
    }
   ],
   "source": [
    "'인천' in '경기도 인천시 남구'"
   ]
  },
  {
   "cell_type": "code",
   "execution_count": 27,
   "metadata": {},
   "outputs": [
    {
     "data": {
      "text/plain": [
       "False"
      ]
     },
     "execution_count": 27,
     "metadata": {},
     "output_type": "execute_result"
    }
   ],
   "source": [
    "'경기도 인천시 남구' in '인천'"
   ]
  },
  {
   "cell_type": "code",
   "execution_count": 28,
   "metadata": {},
   "outputs": [],
   "source": [
    "import numpy as np\n",
    "import pandas as pd"
   ]
  },
  {
   "cell_type": "code",
   "execution_count": 34,
   "metadata": {},
   "outputs": [
    {
     "data": {
      "text/plain": [
       "array([1. , 1.5, 2. , 2.5, 3. , 3.5, 4. , 4.5])"
      ]
     },
     "execution_count": 34,
     "metadata": {},
     "output_type": "execute_result"
    }
   ],
   "source": [
    "np.arange(1, 5, 0.5)"
   ]
  },
  {
   "cell_type": "code",
   "execution_count": 33,
   "metadata": {},
   "outputs": [
    {
     "data": {
      "text/plain": [
       "numpy.ndarray"
      ]
     },
     "execution_count": 33,
     "metadata": {},
     "output_type": "execute_result"
    }
   ],
   "source": [
    "type(np.arange(1, 5, 0.5)) #실수도 가능"
   ]
  },
  {
   "cell_type": "code",
   "execution_count": 36,
   "metadata": {},
   "outputs": [
    {
     "data": {
      "text/plain": [
       "0    1\n",
       "1    2\n",
       "2    3\n",
       "dtype: int64"
      ]
     },
     "execution_count": 36,
     "metadata": {},
     "output_type": "execute_result"
    }
   ],
   "source": [
    "s = pd.Series([1, 2, 3])\n",
    "s"
   ]
  },
  {
   "cell_type": "code",
   "execution_count": 39,
   "metadata": {},
   "outputs": [
    {
     "data": {
      "text/plain": [
       "0    1\n",
       "1    2\n",
       "dtype: int64"
      ]
     },
     "execution_count": 39,
     "metadata": {},
     "output_type": "execute_result"
    }
   ],
   "source": [
    "s[0]"
   ]
  },
  {
   "cell_type": "code",
   "execution_count": 40,
   "metadata": {},
   "outputs": [
    {
     "data": {
      "text/plain": [
       "0    1\n",
       "1    2\n",
       "2    3\n",
       "dtype: int64"
      ]
     },
     "execution_count": 40,
     "metadata": {},
     "output_type": "execute_result"
    }
   ],
   "source": [
    "s[0:3]"
   ]
  },
  {
   "cell_type": "code",
   "execution_count": 41,
   "metadata": {},
   "outputs": [
    {
     "data": {
      "text/plain": [
       "0    1\n",
       "1    2\n",
       "dtype: int64"
      ]
     },
     "execution_count": 41,
     "metadata": {},
     "output_type": "execute_result"
    }
   ],
   "source": [
    "s[0:2]"
   ]
  },
  {
   "cell_type": "code",
   "execution_count": 42,
   "metadata": {},
   "outputs": [
    {
     "data": {
      "text/plain": [
       "3"
      ]
     },
     "execution_count": 42,
     "metadata": {},
     "output_type": "execute_result"
    }
   ],
   "source": [
    "s[2]"
   ]
  },
  {
   "cell_type": "code",
   "execution_count": 43,
   "metadata": {},
   "outputs": [
    {
     "data": {
      "text/plain": [
       "array([0., 1., 2., 3., 4., 5.])"
      ]
     },
     "execution_count": 43,
     "metadata": {},
     "output_type": "execute_result"
    }
   ],
   "source": [
    "np.linspace(0, 5, 6)"
   ]
  },
  {
   "cell_type": "code",
   "execution_count": 47,
   "metadata": {},
   "outputs": [
    {
     "data": {
      "text/plain": [
       "array([0.  , 1.25, 2.5 , 3.75, 5.  ])"
      ]
     },
     "execution_count": 47,
     "metadata": {},
     "output_type": "execute_result"
    }
   ],
   "source": [
    "np.linspace(0, 5, 5)#[-1], 슬라이스도 추가 가능"
   ]
  },
  {
   "cell_type": "code",
   "execution_count": 45,
   "metadata": {},
   "outputs": [
    {
     "data": {
      "text/plain": [
       "numpy.ndarray"
      ]
     },
     "execution_count": 45,
     "metadata": {},
     "output_type": "execute_result"
    }
   ],
   "source": [
    "type(np.linspace(0, 5, 6))"
   ]
  },
  {
   "attachments": {},
   "cell_type": "markdown",
   "metadata": {},
   "source": [
    "# 난수"
   ]
  },
  {
   "cell_type": "code",
   "execution_count": 49,
   "metadata": {},
   "outputs": [
    {
     "data": {
      "text/plain": [
       "0"
      ]
     },
     "execution_count": 49,
     "metadata": {},
     "output_type": "execute_result"
    }
   ],
   "source": [
    "np.random.randint(1)#0~1 미만 정수"
   ]
  },
  {
   "cell_type": "code",
   "execution_count": 51,
   "metadata": {},
   "outputs": [
    {
     "data": {
      "text/plain": [
       "1"
      ]
     },
     "execution_count": 51,
     "metadata": {},
     "output_type": "execute_result"
    }
   ],
   "source": [
    "np.random.randint(2)#0~2 미만 정수"
   ]
  },
  {
   "attachments": {},
   "cell_type": "markdown",
   "metadata": {},
   "source": [
    "# pandas DataFrame"
   ]
  },
  {
   "cell_type": "code",
   "execution_count": 53,
   "metadata": {},
   "outputs": [
    {
     "data": {
      "text/html": [
       "<div>\n",
       "<style scoped>\n",
       "    .dataframe tbody tr th:only-of-type {\n",
       "        vertical-align: middle;\n",
       "    }\n",
       "\n",
       "    .dataframe tbody tr th {\n",
       "        vertical-align: top;\n",
       "    }\n",
       "\n",
       "    .dataframe thead th {\n",
       "        text-align: right;\n",
       "    }\n",
       "</style>\n",
       "<table border=\"1\" class=\"dataframe\">\n",
       "  <thead>\n",
       "    <tr style=\"text-align: right;\">\n",
       "      <th></th>\n",
       "      <th>0</th>\n",
       "      <th>1</th>\n",
       "      <th>2</th>\n",
       "      <th>3</th>\n",
       "    </tr>\n",
       "  </thead>\n",
       "  <tbody>\n",
       "    <tr>\n",
       "      <th>0</th>\n",
       "      <td>0</td>\n",
       "      <td>1</td>\n",
       "      <td>2</td>\n",
       "      <td>3</td>\n",
       "    </tr>\n",
       "    <tr>\n",
       "      <th>1</th>\n",
       "      <td>4</td>\n",
       "      <td>5</td>\n",
       "      <td>6</td>\n",
       "      <td>7</td>\n",
       "    </tr>\n",
       "    <tr>\n",
       "      <th>2</th>\n",
       "      <td>8</td>\n",
       "      <td>9</td>\n",
       "      <td>10</td>\n",
       "      <td>11</td>\n",
       "    </tr>\n",
       "  </tbody>\n",
       "</table>\n",
       "</div>"
      ],
      "text/plain": [
       "   0  1   2   3\n",
       "0  0  1   2   3\n",
       "1  4  5   6   7\n",
       "2  8  9  10  11"
      ]
     },
     "execution_count": 53,
     "metadata": {},
     "output_type": "execute_result"
    }
   ],
   "source": [
    "df = pd.DataFrame(np.arange(12).reshape(3, 4)) #reshape 3행 4열로 만들어라\n",
    "df"
   ]
  },
  {
   "cell_type": "code",
   "execution_count": 54,
   "metadata": {},
   "outputs": [
    {
     "data": {
      "text/html": [
       "<div>\n",
       "<style scoped>\n",
       "    .dataframe tbody tr th:only-of-type {\n",
       "        vertical-align: middle;\n",
       "    }\n",
       "\n",
       "    .dataframe tbody tr th {\n",
       "        vertical-align: top;\n",
       "    }\n",
       "\n",
       "    .dataframe thead th {\n",
       "        text-align: right;\n",
       "    }\n",
       "</style>\n",
       "<table border=\"1\" class=\"dataframe\">\n",
       "  <thead>\n",
       "    <tr style=\"text-align: right;\">\n",
       "      <th></th>\n",
       "      <th>A</th>\n",
       "      <th>B</th>\n",
       "      <th>C</th>\n",
       "      <th>D</th>\n",
       "    </tr>\n",
       "  </thead>\n",
       "  <tbody>\n",
       "    <tr>\n",
       "      <th>0</th>\n",
       "      <td>0</td>\n",
       "      <td>1</td>\n",
       "      <td>2</td>\n",
       "      <td>3</td>\n",
       "    </tr>\n",
       "    <tr>\n",
       "      <th>1</th>\n",
       "      <td>4</td>\n",
       "      <td>5</td>\n",
       "      <td>6</td>\n",
       "      <td>7</td>\n",
       "    </tr>\n",
       "    <tr>\n",
       "      <th>2</th>\n",
       "      <td>8</td>\n",
       "      <td>9</td>\n",
       "      <td>10</td>\n",
       "      <td>11</td>\n",
       "    </tr>\n",
       "  </tbody>\n",
       "</table>\n",
       "</div>"
      ],
      "text/plain": [
       "   A  B   C   D\n",
       "0  0  1   2   3\n",
       "1  4  5   6   7\n",
       "2  8  9  10  11"
      ]
     },
     "execution_count": 54,
     "metadata": {},
     "output_type": "execute_result"
    }
   ],
   "source": [
    "df.columns = list('ABCD')\n",
    "df"
   ]
  },
  {
   "cell_type": "code",
   "execution_count": 55,
   "metadata": {},
   "outputs": [
    {
     "data": {
      "text/html": [
       "<div>\n",
       "<style scoped>\n",
       "    .dataframe tbody tr th:only-of-type {\n",
       "        vertical-align: middle;\n",
       "    }\n",
       "\n",
       "    .dataframe tbody tr th {\n",
       "        vertical-align: top;\n",
       "    }\n",
       "\n",
       "    .dataframe thead th {\n",
       "        text-align: right;\n",
       "    }\n",
       "</style>\n",
       "<table border=\"1\" class=\"dataframe\">\n",
       "  <thead>\n",
       "    <tr style=\"text-align: right;\">\n",
       "      <th></th>\n",
       "      <th>A</th>\n",
       "      <th>B</th>\n",
       "      <th>C</th>\n",
       "      <th>D</th>\n",
       "    </tr>\n",
       "  </thead>\n",
       "  <tbody>\n",
       "    <tr>\n",
       "      <th>a</th>\n",
       "      <td>0</td>\n",
       "      <td>1</td>\n",
       "      <td>2</td>\n",
       "      <td>3</td>\n",
       "    </tr>\n",
       "    <tr>\n",
       "      <th>b</th>\n",
       "      <td>4</td>\n",
       "      <td>5</td>\n",
       "      <td>6</td>\n",
       "      <td>7</td>\n",
       "    </tr>\n",
       "    <tr>\n",
       "      <th>c</th>\n",
       "      <td>8</td>\n",
       "      <td>9</td>\n",
       "      <td>10</td>\n",
       "      <td>11</td>\n",
       "    </tr>\n",
       "  </tbody>\n",
       "</table>\n",
       "</div>"
      ],
      "text/plain": [
       "   A  B   C   D\n",
       "a  0  1   2   3\n",
       "b  4  5   6   7\n",
       "c  8  9  10  11"
      ]
     },
     "execution_count": 55,
     "metadata": {},
     "output_type": "execute_result"
    }
   ],
   "source": [
    "df.index = list('abc')\n",
    "df"
   ]
  },
  {
   "cell_type": "code",
   "execution_count": 56,
   "metadata": {},
   "outputs": [
    {
     "data": {
      "text/plain": [
       "5"
      ]
     },
     "execution_count": 56,
     "metadata": {},
     "output_type": "execute_result"
    }
   ],
   "source": [
    "df.iloc[1, 1] #정수로"
   ]
  },
  {
   "cell_type": "code",
   "execution_count": 57,
   "metadata": {},
   "outputs": [
    {
     "data": {
      "text/plain": [
       "b    5\n",
       "c    9\n",
       "Name: B, dtype: int32"
      ]
     },
     "execution_count": 57,
     "metadata": {},
     "output_type": "execute_result"
    }
   ],
   "source": [
    "df.iloc[1:, 1] #행은 1행부터 끝까지 열은 1번 행만"
   ]
  },
  {
   "cell_type": "code",
   "execution_count": 58,
   "metadata": {},
   "outputs": [
    {
     "data": {
      "text/plain": [
       "pandas.core.series.Series"
      ]
     },
     "execution_count": 58,
     "metadata": {},
     "output_type": "execute_result"
    }
   ],
   "source": [
    "type(df.iloc[1:, 1]) #행은 1행부터 끝까지 열은 1번 행만"
   ]
  },
  {
   "cell_type": "code",
   "execution_count": 59,
   "metadata": {},
   "outputs": [
    {
     "data": {
      "text/plain": [
       "array([[ 0,  1,  2,  3],\n",
       "       [ 4,  5,  6,  7],\n",
       "       [ 8,  9, 10, 11]])"
      ]
     },
     "execution_count": 59,
     "metadata": {},
     "output_type": "execute_result"
    }
   ],
   "source": [
    "df.to_numpy()"
   ]
  },
  {
   "cell_type": "code",
   "execution_count": 60,
   "metadata": {},
   "outputs": [
    {
     "data": {
      "text/plain": [
       "array([[ 0,  1,  2,  3],\n",
       "       [ 4,  5,  6,  7],\n",
       "       [ 8,  9, 10, 11]])"
      ]
     },
     "execution_count": 60,
     "metadata": {},
     "output_type": "execute_result"
    }
   ],
   "source": [
    "df.values"
   ]
  },
  {
   "cell_type": "code",
   "execution_count": 61,
   "metadata": {},
   "outputs": [
    {
     "data": {
      "text/plain": [
       "Index(['A', 'B', 'C', 'D'], dtype='object')"
      ]
     },
     "execution_count": 61,
     "metadata": {},
     "output_type": "execute_result"
    }
   ],
   "source": [
    "df.columns"
   ]
  },
  {
   "cell_type": "code",
   "execution_count": 62,
   "metadata": {},
   "outputs": [
    {
     "data": {
      "text/plain": [
       "Index(['a', 'b', 'c'], dtype='object')"
      ]
     },
     "execution_count": 62,
     "metadata": {},
     "output_type": "execute_result"
    }
   ],
   "source": [
    "df.index"
   ]
  },
  {
   "cell_type": "code",
   "execution_count": 64,
   "metadata": {},
   "outputs": [
    {
     "data": {
      "text/plain": [
       "array([0, 1, 2, 3, 4, 5, 6, 7, 8, 9])"
      ]
     },
     "execution_count": 64,
     "metadata": {},
     "output_type": "execute_result"
    }
   ],
   "source": [
    "d = np.arange(10)\n",
    "d"
   ]
  },
  {
   "cell_type": "code",
   "execution_count": 65,
   "metadata": {},
   "outputs": [
    {
     "data": {
      "text/plain": [
       "array([False, False, False, False, False, False,  True,  True,  True,\n",
       "        True])"
      ]
     },
     "execution_count": 65,
     "metadata": {},
     "output_type": "execute_result"
    }
   ],
   "source": [
    "cond = d > 5\n",
    "cond"
   ]
  },
  {
   "cell_type": "code",
   "execution_count": 66,
   "metadata": {},
   "outputs": [
    {
     "data": {
      "text/plain": [
       "array([6, 7, 8, 9])"
      ]
     },
     "execution_count": 66,
     "metadata": {},
     "output_type": "execute_result"
    }
   ],
   "source": [
    "d[cond] #만족하는 숫자를 출력"
   ]
  },
  {
   "attachments": {},
   "cell_type": "markdown",
   "metadata": {},
   "source": [
    "# Map (시험에 나옴)"
   ]
  },
  {
   "attachments": {},
   "cell_type": "markdown",
   "metadata": {},
   "source": [
    "## Scatter()"
   ]
  },
  {
   "cell_type": "code",
   "execution_count": 67,
   "metadata": {},
   "outputs": [
    {
     "data": {
      "text/plain": [
       "(0.0, 6.0)"
      ]
     },
     "execution_count": 67,
     "metadata": {},
     "output_type": "execute_result"
    },
    {
     "data": {
      "image/png": "[encoded data removed]",
      "text/plain": [
       "<Figure size 640x480 with 1 Axes>"
      ]
     },
     "metadata": {},
     "output_type": "display_data"
    }
   ],
   "source": [
    "import matplotlib.pyplot as plt\n",
    "\n",
    "x = [5, 3, 1, 2]\n",
    "y = [1, 5, 2, 4]\n",
    "plt.scatter(x, y)\n",
    "plt.xlim(0, 6)\n",
    "plt.ylim(0, 6)"
   ]
  },
  {
   "cell_type": "code",
   "execution_count": 70,
   "metadata": {},
   "outputs": [
    {
     "data": {
      "image/png": "[encoded data removed]",
      "text/plain": [
       "<Figure size 640x480 with 2 Axes>"
      ]
     },
     "metadata": {},
     "output_type": "display_data"
    }
   ],
   "source": [
    "import numpy as np\n",
    "import matplotlib.pyplot as plt\n",
    "\n",
    "x = np.arange(1, 5, .5)\n",
    "y = np.random.randint(1, 5, 8)\n",
    "size = [50, 80, 100, 20, 150, 200, 300, 250]\n",
    "plt.scatter(x, y, s=size, c=size, cmap='jet')\n",
    "plt.xlim(0,5)\n",
    "plt.ylim(0,5)\n",
    "plt.colorbar()\n",
    "plt.show()\n"
   ]
  },
  {
   "cell_type": "code",
   "execution_count": 71,
   "metadata": {},
   "outputs": [
    {
     "data": {
      "image/png": "[encoded data removed]",
      "text/plain": [
       "<Figure size 640x480 with 2 Axes>"
      ]
     },
     "metadata": {},
     "output_type": "display_data"
    }
   ],
   "source": [
    "import numpy as np\n",
    "import matplotlib.pyplot as plt\n",
    "\n",
    "x = np.arange(1, 5, .5)\n",
    "y = np.random.randint(1, 5, 8)\n",
    "size = [50, 80, 100, 20, 150, 200, 300, 250]\n",
    "plt.scatter(x, y, s=size, c=x, cmap='jet')\n",
    "plt.xlim(0,5)\n",
    "plt.ylim(0,5)\n",
    "plt.colorbar()\n",
    "plt.show()\n"
   ]
  },
  {
   "cell_type": "code",
   "execution_count": 72,
   "metadata": {},
   "outputs": [
    {
     "data": {
      "image/png": "[encoded data removed]",
      "text/plain": [
       "<Figure size 640x480 with 2 Axes>"
      ]
     },
     "metadata": {},
     "output_type": "display_data"
    }
   ],
   "source": [
    "import numpy as np\n",
    "import matplotlib.pyplot as plt\n",
    "\n",
    "x = np.arange(1, 5, .5)\n",
    "y = np.random.randint(1, 5, 8)\n",
    "size = [50, 80, 100, 20, 150, 200, 300, 250]\n",
    "plt.scatter(x, y, s=size, c=y, cmap='jet')\n",
    "plt.xlim(0,5)\n",
    "plt.ylim(0,5)\n",
    "plt.colorbar()\n",
    "plt.show()\n"
   ]
  },
  {
   "cell_type": "code",
   "execution_count": null,
   "metadata": {},
   "outputs": [],
   "source": []
  }
 ],
 "metadata": {
  "kernelspec": {
   "display_name": "base",
   "language": "python",
   "name": "python3"
  },
  "language_info": {
   "codemirror_mode": {
    "name": "ipython",
    "version": 3
   },
   "file_extension": ".py",
   "mimetype": "text/x-python",
   "name": "python",
   "nbconvert_exporter": "python",
   "pygments_lexer": "ipython3",
   "version": "3.9.13"
  },
  "orig_nbformat": 4,
  "vscode": {
   "interpreter": {
    "hash": "f0c53bbe9542e47df31481e02bf4a49341ba358ee71ef3d714e12d58f858f224"
   }
  }
 },
 "nbformat": 4,
 "nbformat_minor": 2
}
